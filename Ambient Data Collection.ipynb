{
 "cells": [
  {
   "cell_type": "markdown",
   "id": "28c54e8d",
   "metadata": {},
   "source": [
    "## Data Collection"
   ]
  },
  {
   "cell_type": "code",
   "execution_count": 1,
   "id": "23e32bd9",
   "metadata": {},
   "outputs": [],
   "source": [
    "import pandas as pd"
   ]
  },
  {
   "cell_type": "code",
   "execution_count": 2,
   "id": "0f7fd448",
   "metadata": {},
   "outputs": [],
   "source": [
    "# !pip install spotipy --upgrade"
   ]
  },
  {
   "cell_type": "code",
   "execution_count": 3,
   "id": "4b056719",
   "metadata": {},
   "outputs": [],
   "source": [
    "# Client_ID=\"dc1e99f43e90422aa4521e703bede761\"\n",
    "# Client_Secret=\"71f03ba5c63140f58c243ebe208fa154\""
   ]
  },
  {
   "cell_type": "code",
   "execution_count": 4,
   "id": "44fdfeaa",
   "metadata": {},
   "outputs": [],
   "source": [
    "Client_ID=\"aed53999d17a457b8f33f4ee12106043\"\n",
    "Client_Secret=\"2cdf0cb7c48b41a190af73e7379c3f71\""
   ]
  },
  {
   "cell_type": "code",
   "execution_count": 5,
   "id": "49d88813",
   "metadata": {},
   "outputs": [],
   "source": [
    "import spotipy\n",
    "from spotipy.oauth2 import SpotifyClientCredentials\n",
    "\n",
    "auth_manager = SpotifyClientCredentials(client_id=Client_ID,client_secret=Client_Secret)\n",
    "sp = spotipy.Spotify(auth_manager=auth_manager,requests_timeout=100, retries=20)"
   ]
  },
  {
   "cell_type": "markdown",
   "id": "411f4e7c",
   "metadata": {},
   "source": [
    " "
   ]
  },
  {
   "cell_type": "markdown",
   "id": "bd3ba876",
   "metadata": {},
   "source": [
    "## Ambient"
   ]
  },
  {
   "cell_type": "markdown",
   "id": "0ddf41e8",
   "metadata": {},
   "source": [
    "#### ID= 0JQ5DAqbMKFLjmiZRss79w"
   ]
  },
  {
   "cell_type": "code",
   "execution_count": 6,
   "id": "a2bd6429",
   "metadata": {},
   "outputs": [],
   "source": [
    "Range=sp.category_playlists(category_id='0JQ5DAqbMKFLjmiZRss79w', country=\"IN\", limit=1, offset=0)[\"playlists\"][\"total\"]\n",
    "\n",
    "Ambient_ID=[]\n",
    "Ambient_Name=[]\n",
    "y=0\n",
    "\n",
    "for i in range(0,Range):\n",
    "    if (sp.category_playlists(category_id='0JQ5DAqbMKFLjmiZRss79w', country=\"IN\", limit=1, offset=y)[\"playlists\"][\"items\"] is None):\n",
    "        break\n",
    "    else:\n",
    "        Ambient_Name.append(sp.category_playlists(category_id='0JQ5DAqbMKFLjmiZRss79w', country=\"IN\", limit=1, offset=y)[\"playlists\"][\"items\"][0][\"name\"])\n",
    "        Ambient_ID.append(sp.category_playlists(category_id='0JQ5DAqbMKFLjmiZRss79w', country=\"IN\", limit=1, offset=y)[\"playlists\"][\"items\"][0][\"id\"])\n",
    "    y += 1"
   ]
  },
  {
   "cell_type": "code",
   "execution_count": 7,
   "id": "3b4a2004",
   "metadata": {
    "scrolled": true
   },
   "outputs": [
    {
     "data": {
      "text/html": [
       "<div>\n",
       "<style scoped>\n",
       "    .dataframe tbody tr th:only-of-type {\n",
       "        vertical-align: middle;\n",
       "    }\n",
       "\n",
       "    .dataframe tbody tr th {\n",
       "        vertical-align: top;\n",
       "    }\n",
       "\n",
       "    .dataframe thead th {\n",
       "        text-align: right;\n",
       "    }\n",
       "</style>\n",
       "<table border=\"1\" class=\"dataframe\">\n",
       "  <thead>\n",
       "    <tr style=\"text-align: right;\">\n",
       "      <th></th>\n",
       "      <th>Name</th>\n",
       "      <th>ID</th>\n",
       "    </tr>\n",
       "  </thead>\n",
       "  <tbody>\n",
       "    <tr>\n",
       "      <th>0</th>\n",
       "      <td>Ambiente</td>\n",
       "      <td>37i9dQZF1DX9c7yCloFHHL</td>\n",
       "    </tr>\n",
       "    <tr>\n",
       "      <th>1</th>\n",
       "      <td>Ambient Essentials</td>\n",
       "      <td>37i9dQZF1DWUrPBdYfoJvz</td>\n",
       "    </tr>\n",
       "    <tr>\n",
       "      <th>2</th>\n",
       "      <td>New Age Classics</td>\n",
       "      <td>37i9dQZF1DWTWhA27mtRFK</td>\n",
       "    </tr>\n",
       "    <tr>\n",
       "      <th>3</th>\n",
       "      <td>Ambient 1980s</td>\n",
       "      <td>37i9dQZF1DXc2NlKNewIrq</td>\n",
       "    </tr>\n",
       "    <tr>\n",
       "      <th>4</th>\n",
       "      <td>Ambient Japan</td>\n",
       "      <td>37i9dQZF1DX5pzlFKAwpZ5</td>\n",
       "    </tr>\n",
       "    <tr>\n",
       "      <th>...</th>\n",
       "      <td>...</td>\n",
       "      <td>...</td>\n",
       "    </tr>\n",
       "    <tr>\n",
       "      <th>101</th>\n",
       "      <td>Wild Ambience</td>\n",
       "      <td>37i9dQZF1DXbpYC8go5XtU</td>\n",
       "    </tr>\n",
       "    <tr>\n",
       "      <th>102</th>\n",
       "      <td>Lava Lamp</td>\n",
       "      <td>37i9dQZF1DWWtqHeytOZ8f</td>\n",
       "    </tr>\n",
       "    <tr>\n",
       "      <th>103</th>\n",
       "      <td>A Long Now</td>\n",
       "      <td>37i9dQZF1DWZOFbVrnsA55</td>\n",
       "    </tr>\n",
       "    <tr>\n",
       "      <th>104</th>\n",
       "      <td>Forest Bathing</td>\n",
       "      <td>37i9dQZF1DXaPleDxjpDoo</td>\n",
       "    </tr>\n",
       "    <tr>\n",
       "      <th>105</th>\n",
       "      <td>Morning First Light</td>\n",
       "      <td>37i9dQZF1DWSNeg74zvBUZ</td>\n",
       "    </tr>\n",
       "  </tbody>\n",
       "</table>\n",
       "<p>106 rows × 2 columns</p>\n",
       "</div>"
      ],
      "text/plain": [
       "                    Name                      ID\n",
       "0               Ambiente  37i9dQZF1DX9c7yCloFHHL\n",
       "1     Ambient Essentials  37i9dQZF1DWUrPBdYfoJvz\n",
       "2       New Age Classics  37i9dQZF1DWTWhA27mtRFK\n",
       "3          Ambient 1980s  37i9dQZF1DXc2NlKNewIrq\n",
       "4          Ambient Japan  37i9dQZF1DX5pzlFKAwpZ5\n",
       "..                   ...                     ...\n",
       "101        Wild Ambience  37i9dQZF1DXbpYC8go5XtU\n",
       "102            Lava Lamp  37i9dQZF1DWWtqHeytOZ8f\n",
       "103           A Long Now  37i9dQZF1DWZOFbVrnsA55\n",
       "104       Forest Bathing  37i9dQZF1DXaPleDxjpDoo\n",
       "105  Morning First Light  37i9dQZF1DWSNeg74zvBUZ\n",
       "\n",
       "[106 rows x 2 columns]"
      ]
     },
     "execution_count": 7,
     "metadata": {},
     "output_type": "execute_result"
    }
   ],
   "source": [
    "Ambient_Df=pd.DataFrame()\n",
    "Ambient_Df[\"Name\"]=Ambient_Name\n",
    "Ambient_Df[\"ID\"]=Ambient_ID\n",
    "Ambient_Df"
   ]
  },
  {
   "cell_type": "code",
   "execution_count": 8,
   "id": "d1879e40",
   "metadata": {},
   "outputs": [],
   "source": [
    "Ambient_Df.to_csv(r'D:\\Ambient_Playlist.csv')"
   ]
  },
  {
   "cell_type": "markdown",
   "id": "00fc5196",
   "metadata": {},
   "source": [
    "### a function to create a Dataframe with audio features of all songs given the playlist."
   ]
  },
  {
   "cell_type": "code",
   "execution_count": 9,
   "id": "258379a1",
   "metadata": {},
   "outputs": [],
   "source": [
    "# Track Name\n",
    "# Track ID\n",
    "# Artist Name (Multiple Artists), either list or dummies\n",
    "# First Artist (Check for possibility)\n",
    "# Type\n",
    "# Available Market\n",
    "# Popoularity\n",
    "# Album Name"
   ]
  },
  {
   "cell_type": "code",
   "execution_count": 10,
   "id": "157f377a",
   "metadata": {},
   "outputs": [],
   "source": [
    "Track_ID=[]\n",
    "Track_Name=[]\n",
    "Artist_ID=[]\n",
    "Artist_Name=[]\n",
    "Popularity=[]"
   ]
  },
  {
   "cell_type": "code",
   "execution_count": null,
   "id": "1c009361",
   "metadata": {},
   "outputs": [],
   "source": [
    "for j in Ambient_Df['ID'].head(56):\n",
    "    val=sp.playlist_items(playlist_id=j, limit=1, offset=1)['total']\n",
    "    y=0\n",
    "    for i in range(0,val):\n",
    "        if (sp.playlist_tracks(playlist_id=j, fields=None, limit=1, offset=y)['items'][0]['track']['id']) is None:\n",
    "            Track_ID.append(0)\n",
    "        else:\n",
    "            Track_ID.append(sp.playlist_tracks(playlist_id=j, fields=None, limit=1, offset=y)['items'][0]['track']['id'])\n",
    "            \n",
    "        if (sp.playlist_tracks(playlist_id=j, fields=None, limit=1, offset=y)['items'][0]['track']['name']) is None:\n",
    "            Track_Name.append(0)\n",
    "        else:\n",
    "            Track_Name.append(sp.playlist_tracks(playlist_id=j, fields=None, limit=1, offset=y)['items'][0]['track']['name'])\n",
    "            \n",
    "        if (sp.playlist_tracks(playlist_id=j, fields=None, limit=1, offset=y)['items'][0]['track']['artists'][0]['id']) is None:            \n",
    "            Artist_ID.append(0)\n",
    "        else:\n",
    "            Artist_ID.append(sp.playlist_tracks(playlist_id=j, fields=None, limit=1, offset=y)['items'][0]['track']['artists'][0]['id'])\n",
    "            \n",
    "        if (sp.playlist_tracks(playlist_id=j, fields=None, limit=1, offset=y)['items'][0]['track']['artists'][0]['name']) is None:            \n",
    "            Artist_Name.append(0)\n",
    "        else:\n",
    "            Artist_Name.append(sp.playlist_tracks(playlist_id=j, fields=None, limit=1, offset=y)['items'][0]['track']['artists'][0]['name'])\n",
    "            \n",
    "        if (sp.playlist_tracks(playlist_id=j, fields=None, limit=1, offset=y)['items'][0]['track']['popularity']) is None:            \n",
    "            Popularity.append(0)\n",
    "        else:\n",
    "            Popularity.append(sp.playlist_tracks(playlist_id=j, fields=None, limit=1, offset=y)['items'][0]['track']['popularity'])\n",
    "        y+=1"
   ]
  },
  {
   "cell_type": "code",
   "execution_count": null,
   "id": "e45fe49c",
   "metadata": {},
   "outputs": [],
   "source": [
    "# for j in Wellness_Df['ID']:\n",
    "#     val=sp.playlist_items(playlist_id=j, limit=1, offset=1)['total']\n",
    "#     y=0\n",
    "#     for i in range(0,val):\n",
    "#         if (sp.playlist_tracks(playlist_id=j, fields=None, limit=1, offset=y)['items'][0]['track']['id']) is None:\n",
    "#             Track_ID.append(0)\n",
    "#         else:\n",
    "#             Track_ID.append(sp.playlist_tracks(playlist_id=j, fields=None, limit=1, offset=y)['items'][0]['track']['id'])\n",
    "            \n",
    "#         if (sp.playlist_tracks(playlist_id=j, fields=None, limit=1, offset=y)['items'][0]['track']['name']) is None:\n",
    "#             Track_Name.append(0)\n",
    "#         else:\n",
    "#             Track_Name.append(sp.playlist_tracks(playlist_id=j, fields=None, limit=1, offset=y)['items'][0]['track']['name'])\n",
    "            \n",
    "#         if (sp.playlist_tracks(playlist_id=j, fields=None, limit=1, offset=y)['items'][0]['track']['artists'][0]['id']) is None:            \n",
    "#             Artist_ID.append(0)\n",
    "#         else:\n",
    "#             Artist_ID.append(sp.playlist_tracks(playlist_id=j, fields=None, limit=1, offset=y)['items'][0]['track']['artists'][0]['id'])\n",
    "            \n",
    "#         if (sp.playlist_tracks(playlist_id=j, fields=None, limit=1, offset=y)['items'][0]['track']['artists'][0]['name']) is None:            \n",
    "#             Artist_Name.append(0)\n",
    "#         else:\n",
    "#             Artist_Name.append(sp.playlist_tracks(playlist_id=j, fields=None, limit=1, offset=y)['items'][0]['track']['artists'][0]['name'])\n",
    "            \n",
    "#         if (sp.playlist_tracks(playlist_id=j, fields=None, limit=1, offset=y)['items'][0]['track']['popularity']) is None:            \n",
    "#             Popularity.append(0)\n",
    "#         else:\n",
    "#             Popularity.append(sp.playlist_tracks(playlist_id=j, fields=None, limit=1, offset=y)['items'][0]['track']['popularity'])\n",
    "#         y+=1"
   ]
  },
  {
   "cell_type": "code",
   "execution_count": null,
   "id": "374bd36f",
   "metadata": {},
   "outputs": [],
   "source": [
    "# for j in Wellness_Df['ID']:\n",
    "#     val=sp.playlist_items(playlist_id=j, limit=1, offset=1)['total']\n",
    "#     y=0\n",
    "#     for i in range(0,val):\n",
    "#         Track_ID.append(sp.playlist_tracks(playlist_id=j, fields=None, limit=1, offset=y)['items'][0]['track']['id'])\n",
    "#         Track_Name.append(sp.playlist_tracks(playlist_id=j, fields=None, limit=1, offset=y)['items'][0]['track']['name'])\n",
    "#         Artist_ID.append(sp.playlist_tracks(playlist_id=j, fields=None, limit=1, offset=y)['items'][0]['track']['artists'][0]['id'])\n",
    "#         Artist_Name.append(sp.playlist_tracks(playlist_id=j, fields=None, limit=1, offset=y)['items'][0]['track']['artists'][0]['name'])\n",
    "#         Popularity.append(sp.playlist_tracks(playlist_id=j, fields=None, limit=1, offset=y)['items'][0]['track']['popularity'])\n",
    "#         y+=1"
   ]
  },
  {
   "cell_type": "code",
   "execution_count": null,
   "id": "b9e7baaf",
   "metadata": {},
   "outputs": [],
   "source": [
    "Ambient = pd.DataFrame()\n",
    "Ambient['Track_id']=Track_ID\n",
    "Ambient['Track_name']=Track_Name\n",
    "Ambient['Artist_id']=Artist_ID\n",
    "Ambient['Artist_name']=Artist_Name\n",
    "Ambient['Popularity']=Popularity"
   ]
  },
  {
   "cell_type": "code",
   "execution_count": null,
   "id": "1e6b89b2",
   "metadata": {},
   "outputs": [],
   "source": [
    "Ambient"
   ]
  },
  {
   "cell_type": "code",
   "execution_count": null,
   "id": "a13b1def",
   "metadata": {},
   "outputs": [],
   "source": [
    "Ambient.to_csv(r'D:\\Ambient_Tracks_1.csv')"
   ]
  }
 ],
 "metadata": {
  "kernelspec": {
   "display_name": "Python 3 (ipykernel)",
   "language": "python",
   "name": "python3"
  },
  "language_info": {
   "codemirror_mode": {
    "name": "ipython",
    "version": 3
   },
   "file_extension": ".py",
   "mimetype": "text/x-python",
   "name": "python",
   "nbconvert_exporter": "python",
   "pygments_lexer": "ipython3",
   "version": "3.9.12"
  }
 },
 "nbformat": 4,
 "nbformat_minor": 5
}
